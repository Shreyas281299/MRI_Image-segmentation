{
 "cells": [
  {
   "cell_type": "markdown",
   "metadata": {},
   "source": [
    "# MRI Classification\n"
   ]
  },
  {
   "cell_type": "code",
   "execution_count": 1,
   "metadata": {},
   "outputs": [],
   "source": [
    "## Importing the libraries\n",
    "import numpy as np\n",
    "import matplotlib.pyplot as plt\n",
    "from tensorflow.keras import models,datasets,layers\n",
    "import tensorflow as tf\n",
    "from sklearn.utils import shuffle\n",
    "from sklearn.model_selection import train_test_split\n",
    "import imutils\n",
    "import os\n",
    "from os import listdir\n",
    "import SimpleITK\n",
    "from imutils import paths\n",
    "    ##image = cv.imread(directory + \"\\ \" + filename)\n",
    "import cv2 as cv\n",
    "\n",
    "%matplotlib inline"
   ]
  },
  {
   "cell_type": "markdown",
   "metadata": {},
   "source": [
    "## Preprocessing"
   ]
  },
  {
   "cell_type": "code",
   "execution_count": 2,
   "metadata": {},
   "outputs": [],
   "source": [
    "## function to crop the image to only the important areas\n",
    "def crop_brain_contour(org_img):\n",
    "    #converting to gray scale\n",
    "    ##un-comment this the see the RGB and Gray scale image\n",
    "    ## plt.subplot(1,2,1)\n",
    "    ##plt.inshow(org_img)\n",
    "    gray = cv.cvtColor(org_img,cv.COLOR_BGR2GRAY)\n",
    "    \n",
    "    ##Smoothing the imgage \n",
    "    ##bilateral filtering\n",
    "    blur1 = cv.bilateralFilter(gray,9,75,75)\n",
    "    #gaussian filter\n",
    "    blur2 = cv.GaussianBlur(gray,(5,5),0)\n",
    "    # Threshold the image, then perform a series of erosions +\n",
    "    # dilations to remove any small regions of noise\n",
    "    thresh = cv.threshold(blur1, 45, 255, cv.THRESH_BINARY)[1]\n",
    "    thresh = cv.erode(thresh, None, iterations=2)\n",
    "    thresh = cv.dilate(thresh, None, iterations=2)\n",
    "\n",
    "    # Find contours in thresholded image, then grab the largest one\n",
    "    cnts = cv.findContours(thresh.copy(), cv.RETR_EXTERNAL, cv.CHAIN_APPROX_SIMPLE)\n",
    "    cnts = imutils.grab_contours(cnts)\n",
    "    c = max(cnts, key=cv.contourArea)\n",
    "    \n",
    "    # Find the extreme points\n",
    "    extLeft = tuple(c[c[:, :, 0].argmin()][0])\n",
    "    extRight = tuple(c[c[:, :, 0].argmax()][0])\n",
    "    extTop = tuple(c[c[:, :, 1].argmin()][0])\n",
    "    extBot = tuple(c[c[:, :, 1].argmax()][0])\n",
    "\n",
    "    # crop new image out of the original image using the four extreme points (left, right, top, bottom)\n",
    "    new_image = org_img[extTop[1]:extBot[1], extLeft[0]:extRight[0]]        \n",
    "    return new_image\n",
    "## here we have a CROPPED image with only the important part of the scane\n",
    "## we have used bi_lateral and gaussian filters on the image as well"
   ]
  },
  {
   "cell_type": "code",
   "execution_count": 3,
   "metadata": {},
   "outputs": [],
   "source": [
    "X=[]     ## Images    \n",
    "Y=[]     ## Labels \n",
    "images_yes = list(paths.list_images('/Users/apple/Desktop/Image processing/archive/yes'))\n",
    "for i in images_yes:\n",
    "    # load the image\n",
    "        image = cv.imread(i)\n",
    "        # crop the brain and ignore the unnecessary rest part of the image\n",
    "        #####image = crop_brain_contour(image)\n",
    "        # resize image\n",
    "        image = cv.resize(image, dsize=(240, 240), interpolation=cv.INTER_CUBIC)\n",
    "        # normalize values\n",
    "        image = image / 255.\n",
    "        # convert image to numpy array and append it to X\n",
    "        X.append(image)\n",
    "        Y.append(1)\n",
    "        ########## We have here X --> images of tumour vala brain Y--> all 1's\n",
    "images_no = list(paths.list_images('/Users/apple/Desktop/Image processing/archive/no'))\n",
    "for i in images_no:\n",
    "    # load the image\n",
    "        image = cv.imread(i)\n",
    "        # crop the brain and ignore the unnecessary rest part of the image\n",
    "        image = crop_brain_contour(image)\n",
    "        # resize image\n",
    "        image = cv.resize(image, dsize=(240, 240), interpolation=cv.INTER_CUBIC)\n",
    "        # normalize values\n",
    "        image = image / 255.\n",
    "        # convert image to numpy array and append it to X\n",
    "        X.append(image)\n",
    "        Y.append(0)\n",
    "X = np.array(X)\n",
    "Y = np.array(Y)\n",
    "    \n",
    "    # Shuffle the data\n",
    "X, Y = shuffle(X, Y)    \n",
    "\n",
    "## printing an image\n"
   ]
  },
  {
   "cell_type": "markdown",
   "metadata": {},
   "source": [
    "### Croppping and Filtering "
   ]
  },
  {
   "cell_type": "code",
   "execution_count": 4,
   "metadata": {},
   "outputs": [
    {
     "data": {
      "text/plain": [
       "(240, 240, 3)"
      ]
     },
     "execution_count": 4,
     "metadata": {},
     "output_type": "execute_result"
    }
   ],
   "source": [
    "## using the below crop_brain_contour###\n",
    "#for image in X:\n",
    " #   image = crop_brain_contour(image)\n",
    "X[1].shape   "
   ]
  },
  {
   "cell_type": "code",
   "execution_count": 5,
   "metadata": {},
   "outputs": [
    {
     "name": "stdout",
     "output_type": "stream",
     "text": [
      "(169, 240, 240, 3)\n",
      "(169,)\n"
     ]
    }
   ],
   "source": [
    "## Data loading\n",
    "X_train, X_test, Y_train, Y_test = train_test_split(X, Y, test_size=0.33, random_state=42)\n",
    "## Data normalising\n",
    "X_train,X_test = X_train/255,X_test/255\n",
    "print(X_train.shape)\n",
    "print(Y_train.shape)"
   ]
  },
  {
   "cell_type": "markdown",
   "metadata": {},
   "source": [
    "###  Neural Network"
   ]
  },
  {
   "cell_type": "code",
   "execution_count": 6,
   "metadata": {},
   "outputs": [],
   "source": [
    "## Neural Network \n",
    "model = models.Sequential()\n",
    "## 1st Layer is convolutional layer with relu activation function\n",
    "model.add(layers.Conv2D(32,(3,3),activation ='relu',input_shape=(240,240,3)))\n",
    "## 2nd Layer is Maxpooling layer for the convolutional layer\n",
    "model.add(layers.MaxPooling2D((2,2)))\n",
    "## 3rd and 4th layer are same as above. 4th layer has 32 units\n",
    "model.add(layers.Conv2D(64,(3,3),activation = 'relu' ))\n",
    "model.add(layers.MaxPooling2D((2,2)))\n",
    "## 5th layer is another convolutional layer with 32 units\n",
    "model.add(layers.Conv2D(64,(3,3),activation = 'relu' ))\n",
    "##6th layer is Flattening layee\n",
    "model.add(layers.Flatten())\n",
    "##7th layer is a dense layer with 64 units with relu activation function\n",
    "model.add(layers.Dense(units= 64,activation='relu'))\n",
    "##7th layer is a dense layer with 64 units with relu activation function\n",
    "model.add(layers.Dense(units= 32,activation='relu'))\n",
    "## 8th and the final layer is another dense layer with softmax function with 2 units\n",
    "model.add(layers.Dense(units= 2,activation='sigmoid'))  "
   ]
  },
  {
   "cell_type": "code",
   "execution_count": 14,
   "metadata": {},
   "outputs": [
    {
     "name": "stdout",
     "output_type": "stream",
     "text": [
      "Epoch 1/10\n",
      "6/6 [==============================] - 10s 2s/step - loss: 0.6763 - accuracy: 0.6331 - val_loss: 0.7103 - val_accuracy: 0.5714\n",
      "Epoch 2/10\n",
      "6/6 [==============================] - 9s 2s/step - loss: 0.6684 - accuracy: 0.6331 - val_loss: 0.6854 - val_accuracy: 0.5714\n",
      "Epoch 3/10\n",
      "6/6 [==============================] - 9s 1s/step - loss: 0.6632 - accuracy: 0.6331 - val_loss: 0.6818 - val_accuracy: 0.5714\n",
      "Epoch 4/10\n",
      "6/6 [==============================] - 9s 1s/step - loss: 0.6611 - accuracy: 0.6331 - val_loss: 0.6888 - val_accuracy: 0.5714\n",
      "Epoch 5/10\n",
      "6/6 [==============================] - 9s 1s/step - loss: 0.6587 - accuracy: 0.6331 - val_loss: 0.6985 - val_accuracy: 0.5714\n",
      "Epoch 6/10\n",
      "6/6 [==============================] - 9s 1s/step - loss: 0.6589 - accuracy: 0.6331 - val_loss: 0.6852 - val_accuracy: 0.5714\n",
      "Epoch 7/10\n",
      "6/6 [==============================] - 9s 1s/step - loss: 0.6556 - accuracy: 0.6331 - val_loss: 0.6899 - val_accuracy: 0.5714\n",
      "Epoch 8/10\n",
      "6/6 [==============================] - 9s 1s/step - loss: 0.6547 - accuracy: 0.6331 - val_loss: 0.6914 - val_accuracy: 0.5714\n",
      "Epoch 9/10\n",
      "6/6 [==============================] - 9s 1s/step - loss: 0.6502 - accuracy: 0.6331 - val_loss: 0.6726 - val_accuracy: 0.5714\n",
      "Epoch 10/10\n",
      "6/6 [==============================] - 9s 1s/step - loss: 0.6424 - accuracy: 0.6331 - val_loss: 0.6519 - val_accuracy: 0.5714\n"
     ]
    },
    {
     "data": {
      "text/plain": [
       "<tensorflow.python.keras.callbacks.History at 0x14e44a250>"
      ]
     },
     "execution_count": 14,
     "metadata": {},
     "output_type": "execute_result"
    }
   ],
   "source": [
    "model.compile(optimizer='adam',loss='sparse_categorical_crossentropy',metrics=['accuracy'],)\n",
    "model.fit(X_train,Y_train,epochs=10,validation_data=(X_test,Y_test))"
   ]
  },
  {
   "cell_type": "code",
   "execution_count": 15,
   "metadata": {},
   "outputs": [
    {
     "name": "stdout",
     "output_type": "stream",
     "text": [
      "3/3 [==============================] - 1s 252ms/step - loss: 0.6519 - accuracy: 0.5714\n",
      "0.651946485042572 is the loss\n",
      "0.5714285969734192 is the accuracy\n",
      "WARNING:tensorflow:From /opt/anaconda3/lib/python3.8/site-packages/tensorflow/python/training/tracking/tracking.py:111: Model.state_updates (from tensorflow.python.keras.engine.training) is deprecated and will be removed in a future version.\n",
      "Instructions for updating:\n",
      "This property should not be used in TensorFlow 2.0, as updates are applied automatically.\n",
      "WARNING:tensorflow:From /opt/anaconda3/lib/python3.8/site-packages/tensorflow/python/training/tracking/tracking.py:111: Layer.updates (from tensorflow.python.keras.engine.base_layer) is deprecated and will be removed in a future version.\n",
      "Instructions for updating:\n",
      "This property should not be used in TensorFlow 2.0, as updates are applied automatically.\n",
      "INFO:tensorflow:Assets written to: MRI_image_class_V1.model/assets\n"
     ]
    }
   ],
   "source": [
    "## Loss and Accuracy of the model\n",
    "loss,accuracy = model.evaluate(X_test,Y_test)\n",
    "\n",
    "print(str(loss) + ' is the loss')\n",
    "print(str(accuracy) + ' is the accuracy')\n",
    "\n",
    "model.save('MRI_image_class_V1.model')"
   ]
  },
  {
   "cell_type": "code",
   "execution_count": 43,
   "metadata": {},
   "outputs": [
    {
     "name": "stdout",
     "output_type": "stream",
     "text": [
      "yes,tumour is present\n"
     ]
    },
    {
     "data": {
      "image/png": "[encoded data removed]",
      "text/plain": [
       "<Figure size 432x288 with 1 Axes>"
      ]
     },
     "metadata": {
      "needs_background": "light"
     },
     "output_type": "display_data"
    }
   ],
   "source": [
    "result =['no,tumour is not present','yes,tumour is present']\n",
    "test_image = cv.imread('/Users/apple/Desktop/Test_3.jpg')\n",
    "plt.imshow(test_image)\n",
    "test_image = cv.resize(test_image, dsize=(240, 240), interpolation=cv.INTER_CUBIC)\n",
    "        # normalize values\n",
    "test_image = test_image / 255\n",
    "prediction = model.predict(np.array([test_image])/255)\n",
    "index = np.argmax(prediction)\n",
    "print(result[index])"
   ]
  },
  {
   "cell_type": "code",
   "execution_count": null,
   "metadata": {},
   "outputs": [
    {
     "name": "stdout",
     "output_type": "stream",
     "text": [
      "yes,tumour is present\n",
      "yes,tumour is present\n",
      "yes,tumour is present\n",
      "yes,tumour is present\n",
      "yes,tumour is present\n",
      "yes,tumour is present\n",
      "yes,tumour is present\n",
      "yes,tumour is present\n"
     ]
    }
   ],
   "source": [
    "for img in X_test:\n",
    "    result =['no,tumour is not present','yes,tumour is present']\n",
    "    test_image = img\n",
    "    test_image = cv.resize(test_image, dsize=(240, 240), interpolation=cv.INTER_CUBIC) # normalize values\n",
    "    test_image = test_image / 255\n",
    "    prediction = model.predict(np.array([test_image])/255)\n",
    "    index = np.argmax(prediction)\n",
    "    if result[index] == 'yes,tumour is present':\n",
    "        plt.imshow(test_image)\n",
    "        print(result[index])"
   ]
  },
  {
   "cell_type": "code",
   "execution_count": null,
   "metadata": {},
   "outputs": [],
   "source": []
  }
 ],
 "metadata": {
  "kernelspec": {
   "display_name": "Python 3",
   "language": "python",
   "name": "python3"
  },
  "language_info": {
   "codemirror_mode": {
    "name": "ipython",
    "version": 3
   },
   "file_extension": ".py",
   "mimetype": "text/x-python",
   "name": "python",
   "nbconvert_exporter": "python",
   "pygments_lexer": "ipython3",
   "version": "3.8.3"
  }
 },
 "nbformat": 4,
 "nbformat_minor": 4
}
